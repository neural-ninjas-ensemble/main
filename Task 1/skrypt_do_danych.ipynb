{
  "nbformat": 4,
  "nbformat_minor": 0,
  "metadata": {
    "colab": {
      "provenance": []
    },
    "kernelspec": {
      "name": "python3",
      "display_name": "Python 3"
    },
    "language_info": {
      "name": "python"
    }
  },
  "cells": [
    {
      "cell_type": "code",
      "source": [
        "from torch.utils.data import Dataset\n",
        "from typing import Tuple\n",
        "import torch\n",
        "import matplotlib.pyplot as plt\n",
        "\n",
        "\n",
        "class TaskDataset(Dataset):\n",
        "    def __init__(self, transform=None):\n",
        "\n",
        "        self.ids = []\n",
        "        self.imgs = []\n",
        "        self.labels = []\n",
        "\n",
        "        self.transform = transform\n",
        "\n",
        "    def __getitem__(self, index) -> Tuple[int, torch.Tensor, int]:\n",
        "        id_ = self.ids[index]\n",
        "        img = self.imgs[index]\n",
        "        if not self.transform is None:\n",
        "            img = self.transform(img)\n",
        "        label = self.labels[index]\n",
        "        return id_, img, label\n",
        "\n",
        "    def __len__(self):\n",
        "        return len(self.ids)"
      ],
      "metadata": {
        "id": "5awwxkx1nY_f"
      },
      "execution_count": 66,
      "outputs": []
    },
    {
      "cell_type": "code",
      "source": [
        "import pandas as pd"
      ],
      "metadata": {
        "id": "NKfirlSvoPbA"
      },
      "execution_count": 40,
      "outputs": []
    },
    {
      "cell_type": "code",
      "source": [
        "#pobieranie danych zmień na swoje\n",
        "\n",
        "from google.colab import drive\n",
        "drive.mount('/content/drive')\n",
        "dataset = torch.load('/content/drive/MyDrive/dane.pt')"
      ],
      "metadata": {
        "id": "ryHpS4G4jjV3",
        "colab": {
          "base_uri": "https://localhost:8080/"
        },
        "outputId": "7f2d0362-b2c0-45f0-ef35-3e918aab5b25"
      },
      "execution_count": 121,
      "outputs": [
        {
          "output_type": "stream",
          "name": "stdout",
          "text": [
            "Drive already mounted at /content/drive; to attempt to forcibly remount, call drive.mount(\"/content/drive\", force_remount=True).\n"
          ]
        }
      ]
    },
    {
      "cell_type": "code",
      "source": [
        "df = pd.DataFrame([dataset.ids,dataset.labels]).T\n",
        "df.columns =['id','labels']\n",
        "df.labels.value_counts()"
      ],
      "metadata": {
        "colab": {
          "base_uri": "https://localhost:8080/"
        },
        "id": "xdCCVGYVvgSW",
        "outputId": "54ce5c88-6924-4f92-ae88-611d43baaebb"
      },
      "execution_count": 127,
      "outputs": [
        {
          "output_type": "execute_result",
          "data": {
            "text/plain": [
              "62225416    1775\n",
              "62014378    1584\n",
              "15103694    1346\n",
              "90386222    1134\n",
              "26466207     833\n",
              "14119474     502\n",
              "75652382     443\n",
              "83450130     423\n",
              "24683694     420\n",
              "70483417     378\n",
              "31527279     360\n",
              "40019202     340\n",
              "75986657     329\n",
              "50011542     325\n",
              "15256249     316\n",
              "68395620     286\n",
              "64963739     278\n",
              "10964686     273\n",
              "55364435     270\n",
              "33633783     265\n",
              "23255817     178\n",
              "19888903     155\n",
              "67716412     110\n",
              "43338066      78\n",
              "74777746      72\n",
              "65142471      66\n",
              "6661858       52\n",
              "93429558      41\n",
              "23659574      37\n",
              "37206695      32\n",
              "77329636      32\n",
              "32036533      27\n",
              "92257871      26\n",
              "80504125      19\n",
              "75477331      18\n",
              "47140557      17\n",
              "85864573      16\n",
              "78173080      16\n",
              "12076452      16\n",
              "9410583       15\n",
              "75313326      14\n",
              "15258297      13\n",
              "32369775      13\n",
              "91097190      12\n",
              "98460345      10\n",
              "34183981      10\n",
              "20200178       9\n",
              "79051840       9\n",
              "40835903       4\n",
              "47511766       3\n",
              "Name: labels, dtype: int64"
            ]
          },
          "metadata": {},
          "execution_count": 127
        }
      ]
    },
    {
      "cell_type": "markdown",
      "source": [
        "ilość klas"
      ],
      "metadata": {
        "id": "ek-myxfa4fbq"
      }
    },
    {
      "cell_type": "code",
      "source": [
        "df.labels.value_counts().count()"
      ],
      "metadata": {
        "colab": {
          "base_uri": "https://localhost:8080/"
        },
        "id": "YXxAiwOr4a98",
        "outputId": "31a33de9-b5c8-44e8-cdc3-ab2f152ea3a4"
      },
      "execution_count": 129,
      "outputs": [
        {
          "output_type": "execute_result",
          "data": {
            "text/plain": [
              "50"
            ]
          },
          "metadata": {},
          "execution_count": 129
        }
      ]
    },
    {
      "cell_type": "code",
      "source": [
        "def get_data_order(dataset):\n",
        "  df = pd.DataFrame([dataset.ids,dataset.labels]).T\n",
        "  df.columns =['id','labels']\n",
        "\n",
        "  first_id = df.id[0]\n",
        "  final_table=[first_id]\n",
        "\n",
        "  df = df.assign(G=df.groupby('labels').labels.transform('count')).sort_values(['G','labels'],ascending=[False,True]).drop('G',1)\n",
        "\n",
        "  for _,id in enumerate(df.id.values):\n",
        "    final_table.append(id)\n",
        "    final_table.append(73838)\n",
        "  return pd.Series(final_table)\n",
        "\n",
        ""
      ],
      "metadata": {
        "id": "hwUHQoTPsME4"
      },
      "execution_count": 130,
      "outputs": []
    },
    {
      "cell_type": "code",
      "source": [
        "get_data_order(dataset)"
      ],
      "metadata": {
        "colab": {
          "base_uri": "https://localhost:8080/"
        },
        "id": "tN8xE4KTq-UU",
        "outputId": "5437e31b-6908-453f-bf63-1a459c5c0a9d"
      },
      "execution_count": 118,
      "outputs": [
        {
          "output_type": "stream",
          "name": "stderr",
          "text": [
            "<ipython-input-117-f0bdf20a6397>:8: FutureWarning: In a future version of pandas all arguments of DataFrame.drop except for the argument 'labels' will be keyword-only.\n",
            "  df = df.assign(G=df.groupby('labels').labels.transform('count')).sort_values(['G','labels'],ascending=[False,True]).drop('G',1)\n"
          ]
        },
        {
          "output_type": "execute_result",
          "data": {
            "text/plain": [
              "0         73838\n",
              "1        288406\n",
              "2         73838\n",
              "3        278728\n",
              "4         73838\n",
              "          ...  \n",
              "25996     73838\n",
              "25997    161598\n",
              "25998     73838\n",
              "25999    160803\n",
              "26000     73838\n",
              "Length: 26001, dtype: int64"
            ]
          },
          "metadata": {},
          "execution_count": 118
        }
      ]
    },
    {
      "cell_type": "code",
      "source": [],
      "metadata": {
        "id": "weZH3lBHzy4v"
      },
      "execution_count": null,
      "outputs": []
    }
  ]
}